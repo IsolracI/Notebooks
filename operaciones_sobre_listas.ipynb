{
 "cells": [
  {
   "cell_type": "code",
   "execution_count": null,
   "metadata": {},
   "outputs": [],
   "source": [
    "L = []     #Una lista vacía\n",
    "print(L)\n",
    "L2 = [123, \"abc\", 1.23, {}]     #Cuatro objetos: índices 0...3\n",
    "print(L2)\n",
    "L3 = [\"Bob\", 40.0, [\"dev\", \"mgr\"]]      #Sublistas anidadas\n",
    "print(L3)\n",
    "L4 = list(\"spam\")       #Lista de los objetos de un iterable, \n",
    "print(L4)\n",
    "L5 = list(range(-4, 4))\n",
    "print(L5)\n",
    "L2[i]       #índice, índice de índice, trozo, longitud\n",
    "L2[i][j]\n",
    "L2[i:j]\n",
    "len(L2)\n",
    "L2 + L3     #Concatenar, repetir"
   ]
  },
  {
   "cell_type": "code",
   "execution_count": null,
   "metadata": {},
   "outputs": [],
   "source": [
    "L = []\n",
    "L * 3\n",
    "for x in L: print(x)\n",
    "3 in L\n",
    "print(\"L is\", L)\n",
    "L.append(4)\n",
    "print(L)\n",
    "L.extend([5,6,7])\n",
    "L.insert(0,[1,2])\n",
    "print(L)\n",
    "L.index(4)\n",
    "L.count(X)\n",
    "L.sort()\n",
    "L.reverse()\n",
    "L.copy()\n",
    "L.clear()\n",
    "L.pop(X)\n",
    "L.remove(X)\n",
    "del L[i]\n",
    "del L[i:j]\n",
    "L[i:j] = []\n",
    "L[i] = 3\n",
    "L[i:j] = [4,5,6]\n",
    "L = [x**2 for x in range(5)]\n",
    "list(map(ord, \"spam\"))"
   ]
  },
  {
   "cell_type": "markdown",
   "metadata": {},
   "source": [
    "#### Basic List Operations"
   ]
  },
  {
   "cell_type": "code",
   "execution_count": null,
   "metadata": {},
   "outputs": [],
   "source": [
    "print(\"len 1 =\", len([1,2,3]))\n",
    "print(\"len 2 =\", len([\"one\", [2,3], \"four\"]))"
   ]
  },
  {
   "cell_type": "code",
   "execution_count": null,
   "metadata": {},
   "outputs": [],
   "source": [
    "print(\"concatenation =\", [1,2,3] + [4,5,6])\n",
    "print(\"repetition =\", [\"Ni!\"]*4)"
   ]
  },
  {
   "cell_type": "code",
   "execution_count": null,
   "metadata": {},
   "outputs": [],
   "source": [
    "print(\"stringed integer =\", str([1,2]) + \"34\")\n",
    "print([1,2] + list(\"34\"))"
   ]
  },
  {
   "cell_type": "markdown",
   "metadata": {},
   "source": [
    "#### List Iteration and Comprehension"
   ]
  },
  {
   "cell_type": "code",
   "execution_count": null,
   "metadata": {},
   "outputs": [],
   "source": [
    "print(\"boolean answer =\", 3 in [1,2,3])\n",
    "for x in [1,2,3]:\n",
    "    print(x, end=\" \")"
   ]
  },
  {
   "cell_type": "code",
   "execution_count": null,
   "metadata": {},
   "outputs": [],
   "source": [
    "res = [c * 4 for c in \"SPAM\"]\n",
    "print(res)"
   ]
  },
  {
   "cell_type": "code",
   "execution_count": null,
   "metadata": {},
   "outputs": [],
   "source": [
    "# CRUD\n",
    "res = []                # Create\n",
    "for c in \"SPAM\":        # Read\n",
    "    res.append(c * 4)   # Update\n",
    "del res[0]              # Delete\n",
    "print(res)"
   ]
  },
  {
   "cell_type": "code",
   "execution_count": null,
   "metadata": {},
   "outputs": [],
   "source": [
    "list(map(abs, [-1,-2,0,1,2]))"
   ]
  },
  {
   "cell_type": "markdown",
   "metadata": {},
   "source": [
    "#### Indexing, Slicing and Matrixes"
   ]
  },
  {
   "cell_type": "code",
   "execution_count": null,
   "metadata": {},
   "outputs": [],
   "source": [
    "L = [\"spam\", \"Spam\", \"SPAM!\"]\n",
    "print(\"indexing 1 =\", L[2])\n",
    "print(\"indexing 2 =\", L[-2])\n",
    "print(\"indexing 3 =\", L[1:])"
   ]
  },
  {
   "cell_type": "code",
   "execution_count": null,
   "metadata": {},
   "outputs": [],
   "source": [
    "matrix = [[1,2,3], [4,5,6], [7,8,9]]\n",
    "print(\"indexing 1 =\", matrix[1])\n",
    "print(\"indexing 2 =\", matrix[2][0])\n",
    "\n",
    "matrix = [[1,2,3],\n",
    "          [4,5,6],\n",
    "          [7,8,9]]\n",
    "print(\"indexing 3 =\", matrix[1][1])"
   ]
  },
  {
   "cell_type": "markdown",
   "metadata": {},
   "source": [
    "## Changing Lists in Place"
   ]
  },
  {
   "cell_type": "code",
   "execution_count": null,
   "metadata": {},
   "outputs": [],
   "source": [
    "L = [\"spam\", \"Spam\", \"SPAM!\"]\n",
    "L[1] = \"eggs\"\n",
    "print(L)\n",
    "L[0:2] = [\"eat\", \"more\"]\n",
    "print(\"L modificado =\", L)"
   ]
  },
  {
   "cell_type": "code",
   "execution_count": null,
   "metadata": {},
   "outputs": [],
   "source": [
    "L = [1,2,3]\n",
    "print(L)\n",
    "L[1:2] = [4,5]      # Remplazas el objeto en la posición 1\n",
    "print(\"L modificado =\", L)\n",
    "L[1:1] = [6,7]      # Insertas objetos nuevos sin remplazar nada\n",
    "print(\"L con elementos insertados =\", L)\n",
    "L[1:2] = []         # Remplazas el objeto en la posición 1 con una referencia a una lista vacía\n",
    "print(\"L con elementos borrados =\", L)"
   ]
  },
  {
   "cell_type": "code",
   "execution_count": null,
   "metadata": {},
   "outputs": [],
   "source": [
    "L = [1]\n",
    "L[:0] = [2,3,4]         # insertas todo en :0, un trozo vacío delante de 0\n",
    "print(\"L con objetos insertados antes de la posición 0 =\", L)\n",
    "print(\"len de L =\", len(L))\n",
    "L[len(L):] = [5,6,7]    #insertas todo en la posición que len(L) indique\n",
    "print(\"L con objetos insetados con len() =\", L)"
   ]
  },
  {
   "cell_type": "markdown",
   "metadata": {},
   "source": [
    "#### List method calls"
   ]
  },
  {
   "cell_type": "code",
   "execution_count": null,
   "metadata": {},
   "outputs": [],
   "source": [
    "# append\n",
    "L = [\"eat\", \"more\", \"SPAM!\"]\n",
    "L.append(\"please\")\n",
    "print(L)\n",
    "a = [1,2,3,4,5,6,7,7]\n",
    "b = [8,9]\n",
    "a.append(b)\n",
    "print(a)\n",
    "print(a[8])"
   ]
  },
  {
   "cell_type": "code",
   "execution_count": null,
   "metadata": {},
   "outputs": [],
   "source": [
    "# sort\n",
    "L.sort()        # ordena los objetos de la lista (Mayusculas primero)\n",
    "print(L)\n",
    "\n",
    "A = [\"abc\", \"ABD\", \"aBe\"]\n",
    "A.sort()\n",
    "print(A, \"  sort 1\")\n",
    "A = [\"abc\", \"ABD\", \"aBe\"]\n",
    "print(A, \"  A con valor original\")\n",
    "A.sort(key=str.lower)\n",
    "print(A, \"  sort sin tomar en cuenta las mayusculas\")\n",
    "A = ['abc', 'ABD', 'aBe']\n",
    "A.sort(key=str.lower, reverse=True)\n",
    "print(A, \"  sort inverso e insensible a mayusculas\")"
   ]
  },
  {
   "cell_type": "code",
   "execution_count": null,
   "metadata": {},
   "outputs": [],
   "source": [
    "# extend\n",
    "L = [1,2]\n",
    "L.extend([3,4,5])\n",
    "L.extend(\"asd\")\n",
    "print(L)\n",
    "print(L.pop())\n",
    "print(L)\n",
    "\n",
    "a = [1, 2, 3, 4, 5, 6, 7, 7]\n",
    "b = [8, 9, 10]\n",
    "a.extend(b)\n",
    "print(a)\n",
    "a.extend(range(3))\n",
    "print(a)\n",
    "print(a + b, \"concatenación de listas\")\n",
    "print(a, \"la concatenación no modifica la lista original, crea otra\")"
   ]
  },
  {
   "cell_type": "code",
   "execution_count": null,
   "metadata": {},
   "outputs": [],
   "source": [
    "L.extend(2)     # no puedes poner un objeto no iterable como un entero"
   ]
  },
  {
   "cell_type": "code",
   "execution_count": null,
   "metadata": {},
   "outputs": [],
   "source": [
    "# reverse\n",
    "L = [1,2,3,4]\n",
    "print(L.reverse())\n",
    "print(L)\n",
    "print(list(reversed(L)))\n",
    "\n",
    "# otra forma de invertir una lista\n",
    "numbers = [1, 2, 3, 4, 5, 6, 7, 8, 9]\n",
    "print(numbers[::-1])"
   ]
  },
  {
   "cell_type": "code",
   "execution_count": null,
   "metadata": {},
   "outputs": [],
   "source": [
    "# pop\n",
    "L = []\n",
    "L.append(1)\n",
    "print(L, \"append 1\")\n",
    "L.append(2)\n",
    "print(L, \"append 2\")\n",
    "L.pop()\n",
    "print(L, \"pop 1\")"
   ]
  },
  {
   "cell_type": "code",
   "execution_count": null,
   "metadata": {},
   "outputs": [],
   "source": [
    "# index\n",
    "L = [\"spam\", \"eggs\", \"ham\"]\n",
    "L.index(\"eggs\")"
   ]
  },
  {
   "cell_type": "code",
   "execution_count": null,
   "metadata": {},
   "outputs": [],
   "source": [
    "# insert\n",
    "L.insert(1, \"toast\")\n",
    "print(L)"
   ]
  },
  {
   "cell_type": "code",
   "execution_count": null,
   "metadata": {},
   "outputs": [],
   "source": [
    "# remove\n",
    "L.remove(\"eggs\")\n",
    "print(L)\n",
    "\n",
    "# indicandole una posición a pop puedes eliminar el objeto en la posición indicada\n",
    "L.pop(1)\n",
    "print(L)"
   ]
  },
  {
   "cell_type": "code",
   "execution_count": null,
   "metadata": {},
   "outputs": [],
   "source": [
    "# count\n",
    "print(\"spam en L =\", L.count(\"spam\"))     #cuenta la cantidad de veces que encuentra \"spam\"\n",
    "l = [\"spam\", \"spam\", \"asd spam asd\", \"asdspamasd\", \"SPAM\", \"SPam\", \"Spam\"]\n",
    "print(\"spam en l =\", l.count(\"spam\"))"
   ]
  },
  {
   "cell_type": "code",
   "execution_count": null,
   "metadata": {},
   "outputs": [],
   "source": [
    "# del\n",
    "L = [\"spam\", \"eggs\", \"ham\", \"toast\"]\n",
    "del L[0]\n",
    "print(\"del 1 =\", L)\n",
    "\n",
    "L = [\"spam\", \"eggs\", \"ham\", \"toast\"]\n",
    "del L[2]\n",
    "print(\"del 2 =\", L)\n",
    "\n",
    "L = [\"spam\", \"eggs\", \"ham\", \"toast\"]\n",
    "del L[1:]\n",
    "print(\"del 3 =\", L)\n",
    "\n",
    "L = [\"Already\",\"got\",\"one\"]\n",
    "L[1:] = []      # Remplazas los objeto después de la posición 0 con una referencia a una lista vacía\n",
    "print(L)"
   ]
  },
  {
   "cell_type": "code",
   "execution_count": null,
   "metadata": {},
   "outputs": [],
   "source": [
    "L = [\"spam\", \"eggs\", \"ham\", \"toast\"]\n",
    "del L[4]        # da error por estar fuera de rango"
   ]
  },
  {
   "cell_type": "markdown",
   "metadata": {},
   "source": [
    "#### Iterating over a list"
   ]
  },
  {
   "cell_type": "code",
   "execution_count": null,
   "metadata": {},
   "outputs": [],
   "source": [
    "my_list = [\"foo\", \"bar\", \"baz\"]\n",
    "for item in my_list:\n",
    "    print(item)"
   ]
  },
  {
   "cell_type": "code",
   "execution_count": null,
   "metadata": {},
   "outputs": [],
   "source": [
    "for (index, item) in enumerate(my_list):\n",
    "    print('The item in position {} is: {}'.format(index, item))"
   ]
  },
  {
   "cell_type": "code",
   "execution_count": null,
   "metadata": {},
   "outputs": [],
   "source": [
    "for i in range(0, len(my_list)):    # el 0 es para indicar dese qué indice o posición empieza\n",
    "    print(my_list[i])"
   ]
  },
  {
   "cell_type": "markdown",
   "metadata": {},
   "source": [
    "#### Operaciones lógicas sobre una lista"
   ]
  },
  {
   "cell_type": "code",
   "execution_count": null,
   "metadata": {},
   "outputs": [],
   "source": [
    "# Checking if list is empty\n",
    "lst = []\n",
    "not lst"
   ]
  },
  {
   "cell_type": "code",
   "execution_count": null,
   "metadata": {},
   "outputs": [],
   "source": [
    "# checking whether an item is in a list\n",
    "3 in [1,2,3]"
   ]
  },
  {
   "cell_type": "markdown",
   "metadata": {},
   "source": [
    "#### Any and All"
   ]
  },
  {
   "cell_type": "code",
   "execution_count": null,
   "metadata": {},
   "outputs": [],
   "source": [
    "# usa all() para determinar si todos los valores en un iterable evaluan verdadero\n",
    "nums = [1,[1], \"a\", 1]\n",
    "print(all(nums), \"  (todos los objetos tienen valores)\")\n",
    "nums = [1,[], \"a\", 1]\n",
    "print(all(nums), \"  (no todos los objetos tienen valores)\")\n",
    "chars = [\"a\", \"b\", \"c\", \"d\"]\n",
    "print(all(chars), \" (chars)\")"
   ]
  },
  {
   "cell_type": "code",
   "execution_count": null,
   "metadata": {},
   "outputs": [],
   "source": [
    "# any() determina si uno o más valores en un iterable evaluan verdadero\n",
    "nums = [1, 1, 0, 1]\n",
    "print(any(nums), \"  (en nums, más de un objeto evalua verdadero)\")\n",
    "vals = [None, 0, [], False, '']\n",
    "print(any(vals), \"  (en vals, ningún objeto evalua verdadero)\")"
   ]
  },
  {
   "cell_type": "code",
   "execution_count": null,
   "metadata": {},
   "outputs": [],
   "source": [
    "vals = [1, 2, 3, 4]\n",
    "print(\"vals 1 =\", any(val > 12 for val in vals))\n",
    "\n",
    "vals = [1, 2, 3, 4]\n",
    "print(\"vals 2 =\", any(val > 3 for val in vals))"
   ]
  },
  {
   "cell_type": "markdown",
   "metadata": {},
   "source": [
    "#### Remove duplicate values in list"
   ]
  },
  {
   "cell_type": "code",
   "execution_count": null,
   "metadata": {},
   "outputs": [],
   "source": [
    "names = [\"aixk\", \"duke\", \"edik\", \"tofp\", \"duke\"]\n",
    "print(set(names))  # set() construye una colección desordenada de elementos únicos\n",
    "print(list(names))\n",
    "print(list(set(names)))"
   ]
  }
 ],
 "metadata": {
  "kernelspec": {
   "display_name": "Python 3",
   "language": "python",
   "name": "python3"
  },
  "language_info": {
   "codemirror_mode": {
    "name": "ipython",
    "version": 3
   },
   "file_extension": ".py",
   "mimetype": "text/x-python",
   "name": "python",
   "nbconvert_exporter": "python",
   "pygments_lexer": "ipython3",
   "version": "3.12.6"
  }
 },
 "nbformat": 4,
 "nbformat_minor": 2
}
