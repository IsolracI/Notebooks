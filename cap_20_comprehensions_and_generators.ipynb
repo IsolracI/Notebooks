{
 "cells": [
  {
   "cell_type": "markdown",
   "metadata": {},
   "source": [
    "## List Comprehensions Versus map\n",
    "Python’s built-in ord function returns the integer code point of a single character (the chr built-in is the converse—it returns the character for an integer code point)."
   ]
  },
  {
   "cell_type": "code",
   "execution_count": null,
   "metadata": {},
   "outputs": [],
   "source": [
    "print(\"ord of 's' =\", ord('s'))\n",
    "print(\"chr of '115' =\", chr(115))"
   ]
  },
  {
   "cell_type": "code",
   "execution_count": null,
   "metadata": {},
   "outputs": [],
   "source": [
    "# Suppose we wish to collect the ASCII codes of all characters in an entire string.\n",
    "res1 = []\n",
    "for x in 'spam':\n",
    "\tres1.append(ord(x))\n",
    "print(res1)\n",
    "\n",
    "res2 = list(map(ord, 'spam'))\n",
    "print(res2)"
   ]
  },
  {
   "cell_type": "code",
   "execution_count": null,
   "metadata": {},
   "outputs": [],
   "source": [
    "# While map maps a function over an iterable, list comprehensions map an expression over a sequence or other iterable:\n",
    "\n",
    "res = [ord(x) for x in 'spam']\n",
    "res"
   ]
  },
  {
   "cell_type": "markdown",
   "metadata": {},
   "source": [
    "List comprehensions collect the results of applying an arbitrary expression to an iterable of values and return them in a new list. Syntactically, list comprehensions are enclosed in square brackets to remind you that they construct lists.\n",
    "\n",
    "List comprehensions become more convenient, though, when we wish to apply an arbitrary expression to an iterable instead of a function:"
   ]
  },
  {
   "cell_type": "code",
   "execution_count": null,
   "metadata": {},
   "outputs": [],
   "source": [
    "[x ** 2 for x in range(10)]"
   ]
  },
  {
   "cell_type": "code",
   "execution_count": null,
   "metadata": {},
   "outputs": [],
   "source": [
    "# Adding Tests and Nested Loops: `filter`\n",
    "\n",
    "print([x for x in range(5) if x % 2 == 0])\n",
    "\n",
    "print(list(filter((lambda x: x % 2 == 0), range(5))))\n",
    "\n",
    "res = []\n",
    "for x in range(5):\n",
    "    if x % 2 == 0:\n",
    "        res.append(x)\n",
    "print(res)"
   ]
  },
  {
   "cell_type": "code",
   "execution_count": null,
   "metadata": {},
   "outputs": [],
   "source": [
    "# However, we can combine an if clause and an arbitrary expression in our list comprehension, to give it the effect of a filter and a map, in a single expression:\n",
    "\n",
    "[x ** 2 for x in range(10) if x % 2 == 0]"
   ]
  },
  {
   "cell_type": "code",
   "execution_count": null,
   "metadata": {},
   "outputs": [],
   "source": [
    "#The equivalent map call would require a lot more work on our part:\n",
    "\n",
    "list(map((lambda x: x**2), filter((lambda x: x % 2 == 0), range(10))))"
   ]
  },
  {
   "cell_type": "markdown",
   "metadata": {},
   "source": [
    "## Formal comprehension syntax"
   ]
  },
  {
   "cell_type": "code",
   "execution_count": null,
   "metadata": {},
   "outputs": [],
   "source": [
    "res = [x + y for x in [0, 1, 2] for y in [100, 200, 300]]\n",
    "print(res)\n",
    "\n",
    "res = []\n",
    "for x in [0, 1, 2]:\n",
    "\tfor y in [100, 200, 300]:\n",
    "\t\tres.append(x + y)\n",
    "print(res)"
   ]
  },
  {
   "cell_type": "code",
   "execution_count": null,
   "metadata": {},
   "outputs": [],
   "source": [
    "# Although list comprehensions construct list results, remember that they can iterate over any sequence or other iterable type.\n",
    "\n",
    "[x + y for x in 'spam' for y in 'SPAM']"
   ]
  },
  {
   "cell_type": "code",
   "execution_count": null,
   "metadata": {},
   "outputs": [],
   "source": [
    "# Each for clause can have an associated if filter, no matter how deeply the loops are nested.\n",
    "\n",
    "print([x + y for x in 'spam' if x in 'sm' for y in 'SPAM' if y in ('P', 'A')])\n",
    "print([x + y for x in 'spam' if x in 'sm' for y in 'SPAM' if y in ('PA')])"
   ]
  },
  {
   "cell_type": "code",
   "execution_count": null,
   "metadata": {},
   "outputs": [],
   "source": [
    "[x + y + z \tfor x in 'spam' if x in 'sm'\n",
    "\t\t\tfor y in 'SPAM' if y in ('P', 'A')\n",
    "\t\t\tfor z in '123' \tif z > '1']"
   ]
  },
  {
   "cell_type": "code",
   "execution_count": null,
   "metadata": {},
   "outputs": [],
   "source": [
    "print([(x, y) for x in range(5) if x % 2 == 0 for y in range(5) if y % 2 == 1])\n",
    "\n",
    "res = []\n",
    "for x in range(5):\n",
    "\tif x % 2 == 0: \n",
    "\t\tfor y in range(5):\n",
    "\t\t\tif y % 2 == 1:\n",
    "\t\t\t\tres.append((x, y))\n",
    "print(res)"
   ]
  },
  {
   "cell_type": "markdown",
   "metadata": {},
   "source": [
    "## Example: List Comprehensions and Matrixes"
   ]
  },
  {
   "cell_type": "code",
   "execution_count": null,
   "metadata": {},
   "outputs": [],
   "source": [
    "# The following, for example, defines two 3 × 3 matrixes as lists of nested lists:\n",
    "\n",
    "# fila\n",
    "M = [[1, 2, 3],\n",
    "\t [4, 5, 6],\n",
    "\t [7, 8, 9]]\n",
    "\n",
    "N = [[2, 2, 2],\n",
    "     [3, 3, 3],\n",
    "\t [4, 4, 4]]\n",
    "\n",
    "print(\"M[1] =\", M[1])\n",
    "\n",
    "print(\"M[1][2] =\", M[1][2])"
   ]
  },
  {
   "cell_type": "code",
   "execution_count": null,
   "metadata": {},
   "outputs": [],
   "source": [
    "# columna\n",
    "print([row[1] for row in M])\n",
    "\n",
    "print([M[row][1] for row in (0, 1, 2)])"
   ]
  },
  {
   "cell_type": "code",
   "execution_count": null,
   "metadata": {},
   "outputs": [],
   "source": [
    "# diagonal\n",
    "print(\"diagonal principal =\", [M[i][i] for i in range(len(M))])\n",
    "\n",
    "print(\"diagonal inversa =\", [M[i][len(M)-1-i] for i in range(len(M))])"
   ]
  },
  {
   "cell_type": "code",
   "execution_count": null,
   "metadata": {},
   "outputs": [],
   "source": [
    "# Changing such a matrix in place requires assignment to offsets (use range twice if shapes differ):\n",
    "\n",
    "L = [[1, 2, 3],\n",
    "\t [4, 5, 6]]\n",
    "\n",
    "for i in range(len(L)):\n",
    "\tfor j in range(len(L[i])):\n",
    "\t\tL[i][j] += 10\n",
    "print(L)"
   ]
  },
  {
   "cell_type": "code",
   "execution_count": null,
   "metadata": {},
   "outputs": [],
   "source": [
    "M = [[1, 2, 3],\n",
    "\t [4, 5, 6],\n",
    "\t [7, 8, 9]]\n",
    "\n",
    "print([col + 10 for row in M for col in row])"
   ]
  },
  {
   "cell_type": "code",
   "execution_count": null,
   "metadata": {},
   "outputs": [],
   "source": [
    "print([[col + 10 for col in row] for row in M])\n",
    "\n",
    "res = []\n",
    "for row in M:\n",
    "\ttmp = []\n",
    "\tfor col in row:\n",
    "\t\ttmp.append(col + 10)\n",
    "\tres.append(tmp)\n",
    "\n",
    "print(res)"
   ]
  },
  {
   "cell_type": "code",
   "execution_count": null,
   "metadata": {},
   "outputs": [],
   "source": [
    "# Finally, with a bit of creativity, we can also use list comprehensions to combine values of multiple matrixes.\n",
    "\n",
    "M = [[1, 2, 3],\n",
    "\t [4, 5, 6],\n",
    "\t [7, 8, 9]]\n",
    "\n",
    "N = [[2, 2, 2],\n",
    "     [3, 3, 3],\n",
    "\t [4, 4, 4]]\n",
    "\n",
    "print([M[row][col] * N[row][col] for row in range(3) for col in range(3)])\n",
    "print([[M[row][col] * N[row][col] for col in range(3)] for row in range(3)])"
   ]
  },
  {
   "cell_type": "code",
   "execution_count": null,
   "metadata": {},
   "outputs": [],
   "source": [
    "# And for more fun, we can use zip to pair items to be multiplied (and because zip is a generator of values in 3.X, this isn’t as inefficient as it may seem):\n",
    "\n",
    "[[col1 * col2 for (col1, col2) in zip(row1, row2)] for (row1, row2) in zip(M, N)]"
   ]
  }
 ],
 "metadata": {
  "kernelspec": {
   "display_name": "Python 3",
   "language": "python",
   "name": "python3"
  },
  "language_info": {
   "codemirror_mode": {
    "name": "ipython",
    "version": 3
   },
   "file_extension": ".py",
   "mimetype": "text/x-python",
   "name": "python",
   "nbconvert_exporter": "python",
   "pygments_lexer": "ipython3",
   "version": "3.12.6"
  }
 },
 "nbformat": 4,
 "nbformat_minor": 2
}
