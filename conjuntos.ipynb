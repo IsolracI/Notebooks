{
 "cells": [
  {
   "cell_type": "markdown",
   "metadata": {},
   "source": [
    "## Sets\n",
    "Un set o conjunto es una colección no ordenada de objetos únicos e inmutables que soportan las operaciones correspondientes a la teoría de conjuntos.\n",
    "\n",
    "Un item aparece una única vez en un conjunto sin importar el número de veces que sea añadido."
   ]
  },
  {
   "cell_type": "code",
   "execution_count": null,
   "metadata": {},
   "outputs": [],
   "source": [
    "set([1, 2, 3, 4])"
   ]
  },
  {
   "cell_type": "code",
   "execution_count": null,
   "metadata": {},
   "outputs": [],
   "source": [
    "{1, 2, 3, 4}"
   ]
  },
  {
   "cell_type": "code",
   "execution_count": null,
   "metadata": {},
   "outputs": [],
   "source": [
    "# Los set no tienen orden posicional y, por tanto, no son secuencias.\n",
    "\n",
    "print(set(\"spam\"))\n",
    "\n",
    "S = {'s', 'p', 'a', 'm'}\n",
    "print(S)\n",
    "\n",
    "S.add('alot')\n",
    "print(S)"
   ]
  },
  {
   "cell_type": "markdown",
   "metadata": {},
   "source": [
    "## Operaciones sobre conjuntos\n",
    "sets soportan las operaciones matemáticas sobre conjuntos con oeradores de expresión.\n",
    "\n",
    "No pueden realizarse las siguientes operaciones en secuencias como strings, lists, and tuples."
   ]
  },
  {
   "cell_type": "code",
   "execution_count": null,
   "metadata": {},
   "outputs": [],
   "source": [
    "S1 = {1, 2, 3, 4}       # Interseccion\n",
    "S1 & {1, 3}"
   ]
  },
  {
   "cell_type": "code",
   "execution_count": null,
   "metadata": {},
   "outputs": [],
   "source": [
    "{1, 5, 3, 6} | S1       # Union"
   ]
  },
  {
   "cell_type": "code",
   "execution_count": null,
   "metadata": {},
   "outputs": [],
   "source": [
    "S1 - {1, 3, 4}          # Diferencia"
   ]
  },
  {
   "cell_type": "code",
   "execution_count": null,
   "metadata": {},
   "outputs": [],
   "source": [
    "S1 > {1, 3}             # Superset"
   ]
  },
  {
   "cell_type": "markdown",
   "metadata": {},
   "source": [
    "{} es un diccionario en todas las versiones de Python.\n",
    "\n",
    "Los conjuntos vacíos deben ser creados con el built-in set, y se printan del mismo modo:"
   ]
  },
  {
   "cell_type": "code",
   "execution_count": null,
   "metadata": {},
   "outputs": [],
   "source": [
    "S1 - {1, 2, 3, 4}       # Los conjuntos vacíos se printan con el built-in set"
   ]
  },
  {
   "cell_type": "code",
   "execution_count": null,
   "metadata": {},
   "outputs": [],
   "source": [
    "type({})                # {} es un diccionario vacio"
   ]
  },
  {
   "cell_type": "code",
   "execution_count": null,
   "metadata": {},
   "outputs": [],
   "source": [
    "S = set()               # Inicializamos un diccionario vacio\n",
    "S.add(1.23)\n",
    "S"
   ]
  },
  {
   "cell_type": "markdown",
   "metadata": {},
   "source": [
    "## Vistas diccionario y sets\n",
    "La vista objeto devuelta por el método keys es como un set y soporta las operaciones con conjuntos, como la intersección y la unión."
   ]
  },
  {
   "cell_type": "code",
   "execution_count": null,
   "metadata": {},
   "outputs": [],
   "source": [
    "D = dict(a=1, b=2, c=3)\n",
    "K = D.keys()\n",
    "V = D.values()\n",
    "del D['b']\n",
    "print(D)\n",
    "print(K, V)"
   ]
  },
  {
   "cell_type": "code",
   "execution_count": null,
   "metadata": {},
   "outputs": [],
   "source": [
    "K | {'x': 4}            # La vista `keys` es como un set."
   ]
  },
  {
   "cell_type": "code",
   "execution_count": null,
   "metadata": {},
   "outputs": [],
   "source": [
    "# La vista values no es como un set.\n",
    "\n",
    "V & {'x': 4}"
   ]
  },
  {
   "cell_type": "code",
   "execution_count": null,
   "metadata": {},
   "outputs": [],
   "source": [
    "# La vista items genera pares (key, value) que son únicos y hashables (inmutables).\n",
    "\n",
    "V & {'x': 4}.values()"
   ]
  }
 ],
 "metadata": {
  "kernelspec": {
   "display_name": "Python 3",
   "language": "python",
   "name": "python3"
  },
  "language_info": {
   "codemirror_mode": {
    "name": "ipython",
    "version": 3
   },
   "file_extension": ".py",
   "mimetype": "text/x-python",
   "name": "python",
   "nbconvert_exporter": "python",
   "pygments_lexer": "ipython3",
   "version": "3.12.6"
  }
 },
 "nbformat": 4,
 "nbformat_minor": 2
}
