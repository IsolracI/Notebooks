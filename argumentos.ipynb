{
 "cells": [
  {
   "cell_type": "code",
   "execution_count": 4,
   "metadata": {},
   "outputs": [
    {
     "name": "stdout",
     "output_type": "stream",
     "text": [
      "b = 88\n"
     ]
    }
   ],
   "source": [
    "def f(a):\n",
    "    a = 99\n",
    "\n",
    "b = 88\n",
    "f(b)                #llamas a la función f y como argumento \"a\" indicas la variable \"b\".\n",
    "print(\"b =\", b)     #pero la función f solo cambia la variable de manera local, por lo que el cambio no afecta a nada fuera de la función al ser una variable inmutable."
   ]
  },
  {
   "cell_type": "code",
   "execution_count": 3,
   "metadata": {},
   "outputs": [
    {
     "name": "stdout",
     "output_type": "stream",
     "text": [
      "l =  ['spam', 2]\n"
     ]
    }
   ],
   "source": [
    "def changer(a, b):\n",
    "        a = 2\n",
    "        b[0] = 'spam'\n",
    "\n",
    "x = 1\n",
    "l = [1, 2]\n",
    "changer(x, l)                   #llamas a la función changer y como argumentos indicas la variable \"x\" y \"l\"\n",
    "print(\"l = \", l)                #\"x\" es inmutable por lo que los cambios no se guardan fuera de la función, pero \"l\", al ser una lista, guarda las modificaciones\n",
    "assert x == 1, \"x es 1\""
   ]
  },
  {
   "cell_type": "code",
   "execution_count": null,
   "metadata": {},
   "outputs": [],
   "source": [
    "def changer(a, b):              \n",
    "        a = 2\n",
    "        b[0] = 'spam'\n",
    "\n",
    "x = 1\n",
    "l = [1, 2]\n",
    "changer(l, x)\n",
    "print(\"l =\", l, \"x =\", x)       #vemos que si cambiamos el orden de los argumentos, \"x\" al ser inmutable, no nos deja"
   ]
  },
  {
   "cell_type": "code",
   "execution_count": null,
   "metadata": {},
   "outputs": [],
   "source": [
    "l = [1, 2]\n",
    "changer(x, l[:])                #con \"[:]\" estás haciendo una copia de \"l\" y la función se ejecutará usando la copia en vez de la original\n",
    "print(\"l =\", l)"
   ]
  },
  {
   "cell_type": "code",
   "execution_count": null,
   "metadata": {},
   "outputs": [],
   "source": [
    "l = [1, 2]\n",
    "def changer(a, b):\n",
    "    b = b[:]                    #haces una copia del argumento \"b\"\n",
    "    a = 2\n",
    "    b[0] = \"spam\"               #modifica la copia del argumento, no el argumento original\n",
    "\n",
    "changer(x, l)\n",
    "assert l == [1, 2], \"l es una invariante\"\n",
    "print(\"l =\", l)                 #la función modificó la copia y no la original, por lo que no hay cambios en \"l\""
   ]
  },
  {
   "cell_type": "code",
   "execution_count": null,
   "metadata": {},
   "outputs": [],
   "source": [
    "l = [1, 2]\n",
    "def changer(a, b):\n",
    "    a = 2\n",
    "    b[0] = \"spam\"\n",
    "\n",
    "changer(x, tuple(l))            # vuelves a \"l\" una tupla (una lista inmutable), por lo que da error al tratar de modificar l\n",
    "\n",
    "print(\"l =\", l)\n",
    "assert l == [1, 2], \"l es una invariante\""
   ]
  },
  {
   "cell_type": "markdown",
   "metadata": {},
   "source": [
    "# Special Argument-Matching Modes"
   ]
  },
  {
   "cell_type": "code",
   "execution_count": null,
   "metadata": {},
   "outputs": [],
   "source": [
    "def f(a,b,c):\n",
    "    print(a,b,c)\n",
    "\n",
    "f(1,2,3)"
   ]
  },
  {
   "cell_type": "code",
   "execution_count": null,
   "metadata": {},
   "outputs": [],
   "source": [
    "def f(a,b,c):\n",
    "    print(a,b,c)\n",
    "\n",
    "f(c=3,b=2,a=1)\n",
    "f(1,c=3,b=2)        #\"a\" obtiene 1 por posición, los demás obtienen los valores que indicaste tú"
   ]
  },
  {
   "cell_type": "code",
   "execution_count": null,
   "metadata": {},
   "outputs": [],
   "source": [
    "def f(a, b=2, c=3):     #si no indicas un valor a \"b\" y \"c\", de manera predeterminada la función se ejecuta con los valores indicados aquí\n",
    "    print(a,b,c)\n",
    "\n",
    "f(1)\n",
    "f(a=1)"
   ]
  },
  {
   "cell_type": "code",
   "execution_count": null,
   "metadata": {},
   "outputs": [],
   "source": [
    "def f(a, b=2, c=3):\n",
    "    print(a,b,c)\n",
    "\n",
    "f(1,4)\n",
    "f(1,4,5)\n",
    "\n",
    "f(1,c=6)"
   ]
  },
  {
   "cell_type": "code",
   "execution_count": null,
   "metadata": {},
   "outputs": [],
   "source": [
    "def func(spam, eggs, toast=0, ham=0):\n",
    "    print((spam, eggs, toast, ham))\n",
    "\n",
    "func(1,2)\n",
    "func(1, ham=1, eggs=0)\n",
    "func(spam=1, eggs=0)\n",
    "func(toast=1, eggs=2, spam=3)\n",
    "func(1, 2, 3, 4)"
   ]
  },
  {
   "cell_type": "code",
   "execution_count": null,
   "metadata": {},
   "outputs": [],
   "source": [
    "# We can also use a * character by itself in the arguments list to indicate that a function does not accept a variable-length argument list but still expects all arguments following the * to be passed as keywords.\n",
    "\n",
    "def kwonly(a, *b, c):       #pide que después del argumento \"b\", cada valor se indique junto al argumento al que pertenece \n",
    "    print(a, b, c)\n",
    "\n",
    "kwonly(1, 2, c=3)\n",
    "\n",
    "kwonly(1, 2, 2345, c=3)\n",
    "\n",
    "kwonly(a=1, c=3)\n",
    "\n",
    "kwonly(1, 2, 3)"
   ]
  },
  {
   "cell_type": "code",
   "execution_count": null,
   "metadata": {},
   "outputs": [],
   "source": [
    "def kwonly(a, *, b =\"spam\", c=\"ham\"):\n",
    "    print(a,b,c)\n",
    "\n",
    "kwonly(1)\n",
    "kwonly(1, c=3)\n",
    "kwonly(a=1)\n",
    "kwonly(c=3, b=2, a=1,)\n",
    "kwonly(1, 2)                #kwonly() takes 1 positional argument but 2 were given"
   ]
  },
  {
   "cell_type": "code",
   "execution_count": null,
   "metadata": {},
   "outputs": [],
   "source": [
    "def kwonly(a, *, b, c=\"spam\"):\n",
    "    print(a,b,c)\n",
    "\n",
    "kwonly(1, c=\"eggs\")         #kwonly() missing 1 required keyword-only argument: 'b'"
   ]
  },
  {
   "cell_type": "code",
   "execution_count": null,
   "metadata": {},
   "outputs": [],
   "source": [
    "# The last two matching extensions, * and ** , are designed to support functions that take any number of arguments.\n",
    "\n",
    "def f(*args):\n",
    "    print(args)\n",
    "\n",
    "f()\n",
    "f(1,)\n",
    "f(1, 2, 3, 4)"
   ]
  },
  {
   "cell_type": "code",
   "execution_count": null,
   "metadata": {},
   "outputs": [],
   "source": [
    "# The ** feature only works for keyword arguments. It collects them into a new dictionary.\n",
    "\n",
    "def f(**args):\n",
    "    print(args)\n",
    "f()\n",
    "f(a=1, b=2)"
   ]
  },
  {
   "cell_type": "code",
   "execution_count": null,
   "metadata": {},
   "outputs": [],
   "source": [
    "def f(a, *pargs, **kargs):\n",
    "    print(a, pargs, kargs)\n",
    "f(1,2,3, x=1, y=2)"
   ]
  },
  {
   "cell_type": "code",
   "execution_count": null,
   "metadata": {},
   "outputs": [],
   "source": [
    "def func(a,b,c,d):\n",
    "    print(a,b,c,d)\n",
    "\n",
    "args = (1,2)\n",
    "args += (3,4)\n",
    "func(*args)"
   ]
  },
  {
   "cell_type": "code",
   "execution_count": null,
   "metadata": {},
   "outputs": [],
   "source": [
    "def func(a,b,c,d):\n",
    "    print(a,b,c,d)\n",
    "\n",
    "args = (1,2)\n",
    "args += (3,4)\n",
    "args += (5,6)\n",
    "func(*args)"
   ]
  },
  {
   "cell_type": "code",
   "execution_count": null,
   "metadata": {},
   "outputs": [],
   "source": [
    "args = {\"a\" : 1, \"b\" : 2, \"c\" : 3}\n",
    "args[\"d\"] = 4\n",
    "func(**args)"
   ]
  },
  {
   "cell_type": "code",
   "execution_count": null,
   "metadata": {},
   "outputs": [],
   "source": [
    "func(*(1, 2), ** {\"d\" : 4, \"c\" : 3})\n",
    "func(1, *(2, 3), **{\"d\" : 4})\n",
    "func(1, c=3, *(2,), **{\"d\" : 4})\n",
    "func(1, *(2, 3), d=4)\n",
    "func(1, *(2,), c=3, **{\"d\" : 4})"
   ]
  }
 ],
 "metadata": {
  "kernelspec": {
   "display_name": "Python 3",
   "language": "python",
   "name": "python3"
  },
  "language_info": {
   "codemirror_mode": {
    "name": "ipython",
    "version": 3
   },
   "file_extension": ".py",
   "mimetype": "text/x-python",
   "name": "python",
   "nbconvert_exporter": "python",
   "pygments_lexer": "ipython3",
   "version": "3.12.6"
  }
 },
 "nbformat": 4,
 "nbformat_minor": 2
}
