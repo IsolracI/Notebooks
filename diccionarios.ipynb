{
 "cells": [
  {
   "cell_type": "code",
   "execution_count": null,
   "metadata": {},
   "outputs": [],
   "source": [
    "# operaciones más comunes y representativas que se hacen con diccionarios\n",
    "D = {}\n",
    "print(D, \"empty dictionary\")\n",
    "D = {\"Name\": \"Bob\", \"Age\": 40}\n",
    "print(D, \"diccionario con dos objetos\")\n",
    "E = {\"cto\": {\"Name\": \"Bob\", \"Age\": 40}}\n",
    "print(E, \"diccionario anidado\")\n",
    "D = dict(Name= \"Bob\", Age= 40)\n",
    "print(D, \"diccionario hecho a través de la función dict()\")\n",
    "D = dict([(\"name\", \"Bob\"), (\"age\", 40)])\n",
    "print(D, \"otra manera de hacer diccionarios\")\n",
    "D = dict(zip(\"abcd\", \"1234\"))   # D = dict(zip(\"keylist\", \"valueslist\"))\n",
    "print(D, \"diccionario hecho con zip()\")\n",
    "\n",
    "\n",
    "D = {\"Name\": \"Bob\", \"Age\": 40}\n",
    "print(D[\"Name\"], \"indexar en un diccionario por llave\")\n",
    "print(E[\"cto\"][\"Age\"], \"indexar en una lista anidada\")\n",
    "print(\"Age in D =\", \"Age\" in D)\n",
    "print(D.keys(), \"'.keys()' muestra las llaves del diccionario indicado\")\n",
    "print(D.values(), \"'.values()' muestra los valores del diccionario indicado\")\n",
    "print(D.items(), \"'.items()' muestra las tuplas de las llaves con los valores del diccionario indicado\")\n",
    "D.copy()        # hace una copia de D\n",
    "D.clear()\n",
    "print(D, \"'clear()' remueve todos los objetos\")\n",
    "print(\"cantidad de objetos actual en D =\", len(D))\n",
    "D[\"Age\"] = 42       # Añades una llave nueva con un valor o cambias el valor ya establecido de una llave\n",
    "print(D, \"diccionario con llave nueva\")\n",
    "del D[\"Age\"]        # Borras la tupla llave+valor de la llave indicada\n",
    "print(D, \"diccionario con llave borrada\")\n",
    "\n",
    "\n",
    "D = {\"Name\": \"Bob\", \"Age\": 40}\n",
    "D2 = {\"Name\": \"Ana\", \"Age\": 50}\n",
    "print(list(D.keys()))\n",
    "print(list(D.values()))\n",
    "D.update(D2)\n",
    "print(D, \"diccionario actualizado\")\n",
    "D = {x: x*2 for x in range(10)}\n",
    "print(D, \"comprehención de diccionarios\")\n",
    "\n",
    "D = {'eggs': 3, 'spam': 2, 'ham': 1}\n",
    "D['ham'] = [\"grill\", \"bake\", \"fry\"]\n",
    "print(D, \"diccionario con valores cambiados\")\n",
    "D[\"brunch\"] = \"Bacon\"\n",
    "print(D, \"diccionario con valores añadidos\")"
   ]
  },
  {
   "cell_type": "code",
   "execution_count": null,
   "metadata": {},
   "outputs": [],
   "source": [
    "D.pop(\"key\", \"default\")         # regresa el valor de la llave indicada y remueve la tupla de llave+valor, si no se encuentra la llave, regresa el valor indicado en \"default\" (si no se indica nada en \"default\", regresa \"None\")\n",
    "\n",
    "D.get(\"key\", \"default\")         # regresa el valor de la llave indicada, si no se encuentra la llave, regresa el valor indicado en \"default\" (si no se indica nada en \"default\", regresa \"None\")\n",
    "\n",
    "D.popitem()                     # regresa y remueve la última tupla de llave+valor en el diccionario"
   ]
  },
  {
   "cell_type": "code",
   "execution_count": null,
   "metadata": {},
   "outputs": [],
   "source": [
    "D = {\"Name\": \"Bob\", \"Age\": 40}\n",
    "print(D.get(\"Name\", \"poronga\"), \"   devuelve el valor de la llave indicada\")\n",
    "print(D.get(\"Years\", \"poronga\"), \"  la llave 'Years' no está dentro del diccionario, por lo que devuelve lo indicado en 'default'\")\n",
    "print(D.pop(\"Age\", \"poronga también\"), \"    devuelve y el valor de la llave indicada y elimina su tupla de llave+valor del diccionario\")\n",
    "print(D.pop(\"Years\", \"poronga también\"), \"  la llave 'Years' no está dentro del diccionario, por lo que devuelve lo indicado en 'default'\")\n",
    "print(D.popitem())\n",
    "print(D)"
   ]
  },
  {
   "cell_type": "code",
   "execution_count": null,
   "metadata": {},
   "outputs": [],
   "source": [
    "# se puede saber qué coño hace ésto?\n",
    "D = {\"Name\": \"Bob\", \"Age\": 40}\n",
    "D.setdefault(\"Age\", \"porongisima\")\n",
    "print(D)"
   ]
  },
  {
   "cell_type": "code",
   "execution_count": null,
   "metadata": {},
   "outputs": [],
   "source": [
    "table = {'1975': 'Holy Grail',\n",
    "         '1979': 'Life of Brian',\n",
    "         '1983': 'The Meaning of Life'}      \n",
    "\n",
    "year = '1983'\n",
    "movie = table[year]     # dictionary[Key] => Value\n",
    "print(movie)\n",
    "\n",
    "for year in table:  # Same as: for year in table.keys()\n",
    "    print(year + '\\t' + table[year])"
   ]
  },
  {
   "cell_type": "code",
   "execution_count": null,
   "metadata": {},
   "outputs": [],
   "source": [
    "Matrix = {}\n",
    "Matrix[(2, 3, 4)] = 88\n",
    "Matrix[(7, 8, 9)] = 99\n",
    "\n",
    "X = 2; Y = 3; Z = 4 # ; separates statements: see Chapter 10\n",
    "print(Matrix[(X, Y, Z)])\n",
    "print(Matrix)"
   ]
  },
  {
   "cell_type": "code",
   "execution_count": null,
   "metadata": {},
   "outputs": [],
   "source": [
    "rec = {'name': 'Bob',\n",
    "       'jobs': ['developer', 'manager'],\n",
    "       'web': 'www.bobs.org/ ̃Bob',\n",
    "       'home': {'state': 'Overworked', 'zip': 12345}}\n",
    "\n",
    "print(rec['name'])\n",
    "print(rec[\"jobs\"])\n",
    "print(rec[\"jobs\"][1])\n",
    "print(rec[\"home\"][\"zip\"])"
   ]
  }
 ],
 "metadata": {
  "kernelspec": {
   "display_name": "Python 3",
   "language": "python",
   "name": "python3"
  },
  "language_info": {
   "codemirror_mode": {
    "name": "ipython",
    "version": 3
   },
   "file_extension": ".py",
   "mimetype": "text/x-python",
   "name": "python",
   "nbconvert_exporter": "python",
   "pygments_lexer": "ipython3",
   "version": "3.12.6"
  }
 },
 "nbformat": 4,
 "nbformat_minor": 2
}
