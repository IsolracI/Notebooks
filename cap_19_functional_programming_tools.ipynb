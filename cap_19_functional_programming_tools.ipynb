{
 "cells": [
  {
   "cell_type": "markdown",
   "metadata": {},
   "source": [
    "## Anonymous Functions: lambda\n",
    "This expression creates a function to be called later, but it returns the function instead of assigning it to a name - This is why lambdas are sometimes known as anonymous (i.e., unnamed) functions.\n",
    "\n",
    "keyword lambda, followed by one or more arguments:\n",
    "\n",
    "    lambda argument1, argument2,... argumentN : expression using arguments"
   ]
  },
  {
   "cell_type": "code",
   "execution_count": null,
   "metadata": {},
   "outputs": [],
   "source": [
    "def func(x, y, z): \n",
    "    return x + y + z\n",
    "func(2, 3, 4)"
   ]
  },
  {
   "cell_type": "code",
   "execution_count": null,
   "metadata": {},
   "outputs": [],
   "source": [
    "f = lambda x, y, z: x + y + z\n",
    "f(2, 3, 4)"
   ]
  },
  {
   "cell_type": "markdown",
   "metadata": {},
   "source": [
    "## Why Use lambda?\n",
    "lambda is also commonly used to code jump tables, which are lists or dictionaries of actions to be performed on demand. For example:"
   ]
  },
  {
   "cell_type": "code",
   "execution_count": null,
   "metadata": {},
   "outputs": [],
   "source": [
    "L = [lambda x: x ** 2,      # Definición de función en línea\n",
    "     lambda x: x ** 3,      # Una lista de tres funciones que puedes llamar\n",
    "     lambda x: x ** 4]\n",
    "\n",
    "for f in L: print(f(2))     # Con el bucle for indicas que imprima cada objeto en \"L\" con el argumento que le indicaste (2)\n",
    "\n",
    "print(L[0](3))              # Imprimes nada más el primer objeto en la lista con el argumento que le indicaste (3)"
   ]
  },
  {
   "cell_type": "code",
   "execution_count": null,
   "metadata": {},
   "outputs": [],
   "source": [
    "f = (lambda a=\"fee\", b=\"fie\", c=\"foe\": a + b + c)\n",
    "print(\"ejemplo 1:\", f())\n",
    "print(\"ejemplo 2:\", f(\"wee\"))\n",
    "print(\"ejemplo 3:\", f(\"wee\", \"waa\"))\n",
    "print(\"ejemplo 4:\", f(a=\"aa \", c=\" cc\"))"
   ]
  },
  {
   "cell_type": "code",
   "execution_count": null,
   "metadata": {},
   "outputs": [],
   "source": [
    "def knights(): \n",
    "    title = 'Sir'\n",
    "    action = (lambda x: title + ' ' + x) \n",
    "    return action\n",
    "\n",
    "act = knights()\n",
    "msg = act('robin')              # \"robin\" cuneta como la \"x\" dentro de la función lambda\n",
    "msg"
   ]
  },
  {
   "cell_type": "code",
   "execution_count": null,
   "metadata": {},
   "outputs": [],
   "source": [
    "def knights(): \n",
    "    title = 'Sir'\n",
    "    action = (lambda x, z: title + ' ' + x + \" \" + \"the\" + \" \" + z) \n",
    "    return action\n",
    "\n",
    "act = knights()\n",
    "msg = act(\"robin\", \"III\")\n",
    "msg"
   ]
  },
  {
   "cell_type": "markdown",
   "metadata": {},
   "source": [
    "## Mapping Functions over Iterables: map\n",
    "One of the more common things programs do with lists and other sequences is apply an operation to each item and collect the results:"
   ]
  },
  {
   "cell_type": "code",
   "execution_count": null,
   "metadata": {},
   "outputs": [],
   "source": [
    "counters = [1, 2, 3, 4]\n",
    "updated = []\n",
    "for x in counters:\n",
    "\tupdated.append(x + 10)\n",
    "updated "
   ]
  },
  {
   "cell_type": "code",
   "execution_count": null,
   "metadata": {},
   "outputs": [],
   "source": [
    "def inc(x):\n",
    "    return x + 10 \t\t\n",
    "\n",
    "list(map(inc, counters))        # map calls inc on each list item and collects all the return values into a new list."
   ]
  },
  {
   "cell_type": "code",
   "execution_count": null,
   "metadata": {},
   "outputs": [],
   "source": [
    "# Because map expects a function to be passed in and applied, it also happens to be one of the places where lambda commonly appears:\n",
    "\n",
    "lista = list(map((lambda x: x + 3), counters))\n",
    "print(lista)\n",
    "print(counters)"
   ]
  },
  {
   "cell_type": "markdown",
   "metadata": {},
   "source": [
    "## Multiple sequence arguments\n",
    "For instance, given multiple sequence arguments, it sends items taken from sequences in parallel as distinct arguments to the function. With multiple sequences, map expects an N-argument function for N sequences. Here, the pow function takes two arguments on each call, one from each sequence passed to map."
   ]
  },
  {
   "cell_type": "code",
   "execution_count": null,
   "metadata": {},
   "outputs": [],
   "source": [
    "print(pow(3, 4))\n",
    "\n",
    "print(list(map(pow, [1, 2, 3], [2, 3, 4]))) \t"
   ]
  },
  {
   "cell_type": "markdown",
   "metadata": {},
   "source": [
    "## Map similar to comprehensions\n",
    "The map call is similar to the list comprehension expressions we studied in Chapter 14 and will revisit in the next chapter from a functional perspective:"
   ]
  },
  {
   "cell_type": "code",
   "execution_count": null,
   "metadata": {},
   "outputs": [],
   "source": [
    "print(list(map(inc, [1, 2, 3, 4])))\n",
    "\n",
    "print([inc(x) for x in [1, 2, 3, 4]])"
   ]
  },
  {
   "cell_type": "markdown",
   "metadata": {},
   "source": [
    "## Selecting Items in Iterables: filter\n",
    "filter and reduce, select an iterable’s items based on a test function and apply functions to item pairs, respectively.\n",
    "\n",
    "Because it also returns an iterable, filter (like range) requires a list call to display all its results in 3.X."
   ]
  },
  {
   "cell_type": "code",
   "execution_count": null,
   "metadata": {},
   "outputs": [],
   "source": [
    "# The following filter call picks out items in a sequence that are greater than zero:\n",
    "\n",
    "print(list(range(-5, 5)))\n",
    "\n",
    "print(list(filter((lambda x: x > 0), range(-5, 5))))\n",
    "\n",
    "res = []\n",
    "for x in range(-5, 5):\t\t\t\n",
    "\tif x > 0:\n",
    "\t    res.append(x)\n",
    "print(res)"
   ]
  },
  {
   "cell_type": "code",
   "execution_count": null,
   "metadata": {},
   "outputs": [],
   "source": [
    "[x for x in range(-5, 5) if x > 0]"
   ]
  },
  {
   "cell_type": "markdown",
   "metadata": {},
   "source": [
    "## Combining Items in Iterables: reduce\n",
    "It accepts an iterable to process, but it’s not an iterable itself, it returns a single result.\n",
    "\n",
    "Here are two reduce calls that compute the sum and product of the items in a list."
   ]
  },
  {
   "cell_type": "code",
   "execution_count": null,
   "metadata": {},
   "outputs": [],
   "source": [
    "# Para usar reduce es necesario importar functools:\n",
    "from functools import reduce\n",
    "\n",
    "print(reduce((lambda x, y: x + y), [1, 2, 3, 4]))\n",
    "\n",
    "L = [1,2,3,4]\n",
    "res = L[0]\n",
    "for x in L[1:]:\n",
    "\tres = res + x\n",
    "print(res)"
   ]
  },
  {
   "cell_type": "markdown",
   "metadata": {},
   "source": [
    "## Ejercicios propuestos"
   ]
  },
  {
   "cell_type": "code",
   "execution_count": null,
   "metadata": {},
   "outputs": [],
   "source": [
    "# we need to create a list of integers which specify the length of each word in a certain sentence, but only if the word is not the word \"the\".\n",
    "\n",
    "sentence = \"the quick brown fox jumps over the lazy dog\"\n",
    "words = sentence.split()\n",
    "print(words)\n",
    "word_lengths = [len(word) for word in words if word != \"the\"]   # por cada objeto \"word\" en la lista \"words\", indica su lóngitud mientras no sea la palabra \"the\" en la variable \"word_lengths\"\n",
    "print(word_lengths)"
   ]
  },
  {
   "cell_type": "code",
   "execution_count": null,
   "metadata": {},
   "outputs": [],
   "source": [
    "# Write a list comprehension that creates a list of tuples. Each tuple has two values, a temperature in Farenheit and a temperature in Celsius.\n",
    "\n",
    "# 1. Create one list for Farenheit values from 0 to 100 in steps of 5 and the matching Celsius values\n",
    "farenheit1 = list(range(0, 101, 5))\n",
    "steps_of_five = [ (x, (x - 32) *5/9) for x in farenheit1]\n",
    "print(steps_of_five)\n",
    "\n",
    "# 2. Create another list for Celsius values from -10 to 50 in steps of 2 and the matching Farenheit values\n",
    "farenheit2 = list(range(-10, 51, 2))\n",
    "steps_of_two = [ (x, (x - 32) *5/9) for x in farenheit2]\n",
    "print(steps_of_two)"
   ]
  }
 ],
 "metadata": {
  "kernelspec": {
   "display_name": "Python 3",
   "language": "python",
   "name": "python3"
  },
  "language_info": {
   "codemirror_mode": {
    "name": "ipython",
    "version": 3
   },
   "file_extension": ".py",
   "mimetype": "text/x-python",
   "name": "python",
   "nbconvert_exporter": "python",
   "pygments_lexer": "ipython3",
   "version": "3.12.6"
  }
 },
 "nbformat": 4,
 "nbformat_minor": 2
}
