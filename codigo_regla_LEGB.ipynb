{
 "cells": [
  {
   "cell_type": "code",
   "execution_count": null,
   "metadata": {},
   "outputs": [],
   "source": [
    "x = 88\n",
    "\n",
    "def func():\n",
    "    x = 99\n",
    "\n",
    "func()\n",
    "print(x)"
   ]
  },
  {
   "cell_type": "code",
   "execution_count": null,
   "metadata": {},
   "outputs": [],
   "source": [
    "x = 88\n",
    "\n",
    "def func():\n",
    "    global x\n",
    "    x = 99\n",
    "\n",
    "func()\n",
    "print(\"x =\", x) # con global ahora la función cambia el objeto al que x hace referencia de manera global y no solo dentro de la función"
   ]
  },
  {
   "cell_type": "code",
   "execution_count": null,
   "metadata": {},
   "outputs": [],
   "source": [
    "x = 99\n",
    "\n",
    "def f1():\n",
    "    x = 88                          # \"x\" hace referencia a 88 dentro de la función\n",
    "    def f2():\n",
    "        print(\"x local =\", x)       # imprimes \"x local = 88\" ya que estamos dentro de la función\n",
    "    f2()                            # llamas a la función \"f2\" dentro de \"f1\" para que cada vez que llames a \"f1\" se ejecuten las dos funciones\n",
    "\n",
    "f1()\n",
    "print(\"x global =\", x)"
   ]
  },
  {
   "cell_type": "code",
   "execution_count": null,
   "metadata": {},
   "outputs": [],
   "source": [
    "def f1():\n",
    "    x = 88\n",
    "    def f2():\n",
    "        print(\"x =\", x)\n",
    "    return f2                       # practicamente lo mismo que en el recuadro anterior\n",
    "\n",
    "action = f1()                       # la variable \"action\" hace referencia a una función, por lo que puedes llamar esa función a través de la variable\n",
    "action()"
   ]
  },
  {
   "cell_type": "code",
   "execution_count": null,
   "metadata": {},
   "outputs": [],
   "source": [
    "def maker(n):\n",
    "    def action(x):\n",
    "        return x ** n\n",
    "    return action\n",
    "\n",
    "f = maker(4)\n",
    "print(f(3))\n",
    "\n",
    "print(f(5))"
   ]
  },
  {
   "cell_type": "code",
   "execution_count": null,
   "metadata": {},
   "outputs": [],
   "source": [
    "def maker(n):\n",
    "    def action(x):\n",
    "        return x ** n\n",
    "    return action\n",
    "\n",
    "print(maker(4)(3))\n",
    "\n",
    "print(maker(4)(5))"
   ]
  }
 ],
 "metadata": {
  "kernelspec": {
   "display_name": "Python 3",
   "language": "python",
   "name": "python3"
  },
  "language_info": {
   "codemirror_mode": {
    "name": "ipython",
    "version": 3
   },
   "file_extension": ".py",
   "mimetype": "text/x-python",
   "name": "python",
   "nbconvert_exporter": "python",
   "pygments_lexer": "ipython3",
   "version": "3.12.6"
  }
 },
 "nbformat": 4,
 "nbformat_minor": 2
}
