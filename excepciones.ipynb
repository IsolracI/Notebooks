{
 "cells": [
  {
   "cell_type": "markdown",
   "metadata": {},
   "source": [
    "La sentencia try debe estar acompañada de except o de finally, y el orden de las partes debe ser el siguiente.\n",
    "\n",
    "Recuerda que en la documentación sobre líneas de comandos y código en general los símbolos [] indican que ese argumento es opcional y no se requiere para que la sentencia se ejecute.\n",
    "\n",
    "Además, el metacarácter * indica que la sentencia except puede aparecer múltiples veces."
   ]
  },
  {
   "cell_type": "code",
   "execution_count": null,
   "metadata": {},
   "outputs": [],
   "source": [
    "sep = \"-\" * 45 + \"\\n\"\n",
    "print(sep + \"EXCEPTION RAISED AND CAUGHT\")\n",
    "try:\n",
    "    x = \"spam\"[99]\n",
    "except IndexError:\n",
    "    print(\"except run\")\n",
    "finally:\n",
    "    print(\"finally run\")\n",
    "print(\"after run\")"
   ]
  },
  {
   "cell_type": "code",
   "execution_count": null,
   "metadata": {},
   "outputs": [],
   "source": [
    "print(sep + \"NO EXCEPTION RAISED\")\n",
    "try:\n",
    "    x = \"spam\"[3]\n",
    "except IndexError:\n",
    "    print(\"except run\")\n",
    "finally:\n",
    "    print(\"finally run\")\n",
    "print(\"after run\")"
   ]
  },
  {
   "cell_type": "code",
   "execution_count": null,
   "metadata": {},
   "outputs": [],
   "source": [
    "print(sep + \"NO EXCEPTION RAISED, WITH ELSE\")\n",
    "try:\n",
    "    x = \"spam\"[3]\n",
    "except IndexError:\n",
    "    print(\"except run\")\n",
    "else:\n",
    "    print(\"else run\")\n",
    "finally:\n",
    "    print(\"finally run\")\n",
    "print(\"after run\")"
   ]
  },
  {
   "cell_type": "code",
   "execution_count": null,
   "metadata": {},
   "outputs": [],
   "source": [
    "print(sep + \"EXCEPTION RAISED BUT NOT CAUGHT\")\n",
    "try:\n",
    "    x=1 / 0\n",
    "except IndexError:\n",
    "    print(\"except run\")\n",
    "finally:\n",
    "    print(\"finally run\")\n",
    "print(\"after run\")"
   ]
  }
 ],
 "metadata": {
  "kernelspec": {
   "display_name": "Python 3",
   "language": "python",
   "name": "python3"
  },
  "language_info": {
   "codemirror_mode": {
    "name": "ipython",
    "version": 3
   },
   "file_extension": ".py",
   "mimetype": "text/x-python",
   "name": "python",
   "nbconvert_exporter": "python",
   "pygments_lexer": "ipython3",
   "version": "3.12.6"
  }
 },
 "nbformat": 4,
 "nbformat_minor": 2
}
