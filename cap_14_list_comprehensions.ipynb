{
 "cells": [
  {
   "cell_type": "code",
   "execution_count": null,
   "metadata": {},
   "outputs": [],
   "source": [
    "L = [1,2,3,4,5]\n",
    "for i in range(len(L)):\n",
    "    L[i] += 10\n",
    "\n",
    "print(L)"
   ]
  },
  {
   "cell_type": "code",
   "execution_count": null,
   "metadata": {},
   "outputs": [],
   "source": [
    "L = [x + 10 for x in L]\n",
    "\n",
    "print(L)"
   ]
  },
  {
   "cell_type": "code",
   "execution_count": null,
   "metadata": {},
   "outputs": [],
   "source": [
    "res = []\n",
    "for x in L:\n",
    "    res.append(x + 10)\n",
    "\n",
    "print(res)"
   ]
  },
  {
   "cell_type": "code",
   "execution_count": null,
   "metadata": {},
   "outputs": [],
   "source": [
    "# crear lista con los valores menores que 5 de una lista dada.\n",
    "L = [1,7,8,9]\n",
    "M = [x for x in L if x < 5]\n",
    "\n",
    "print(M)"
   ]
  },
  {
   "cell_type": "code",
   "execution_count": null,
   "metadata": {},
   "outputs": [],
   "source": [
    "[x + y for x in 'abc' for y in 'lmn']"
   ]
  },
  {
   "cell_type": "code",
   "execution_count": null,
   "metadata": {},
   "outputs": [],
   "source": [
    "res = []\n",
    "for x in 'abc':\n",
    "\tfor y in 'lmn':\n",
    "\t\tres.append(x + y)\n",
    "\n",
    "print(res)"
   ]
  },
  {
   "cell_type": "code",
   "execution_count": null,
   "metadata": {},
   "outputs": [],
   "source": [
    "# Crea una lista a partir de una tupla, añadiendo 20 a cada item:\n",
    "T = (1, 2, 3, 4, 5)\n",
    "L = [x + 20 for x in T]\n",
    "\n",
    "print(L)"
   ]
  },
  {
   "cell_type": "code",
   "execution_count": null,
   "metadata": {},
   "outputs": [],
   "source": [
    "# Crea una lista de números del 0 al 9 a partir del iterable range()\n",
    "L = [x for x in range(0,9)]\n",
    "\n",
    "print(L)"
   ]
  },
  {
   "cell_type": "code",
   "execution_count": null,
   "metadata": {},
   "outputs": [],
   "source": [
    "x = [1, 2, 3]\n",
    "y = [4, 5, 6]\n",
    "z = [7, 8, 9]\n",
    "zipped1 = zip(x, y)\n",
    "zipped2 = zip(x)\n",
    "zipped3 = zip(y)\n",
    "zipped4 = zip(x, y, z)\n",
    "\n",
    "print(\"zipped1\",  list(zipped1))\n",
    "print(\"zipped2\",  list(zipped2))\n",
    "print(\"zipped3\",  list(zipped3))\n",
    "print(\"zipped4\",  list(zipped4))"
   ]
  },
  {
   "cell_type": "code",
   "execution_count": null,
   "metadata": {},
   "outputs": [],
   "source": [
    "L = [x for x in range(0,4)]\n",
    "M = [x for x in range(5,10)]\n",
    "[elemento for elemento in zip(L,M)]"
   ]
  },
  {
   "cell_type": "code",
   "execution_count": null,
   "metadata": {},
   "outputs": [],
   "source": [
    "# Zip together keys and values\n",
    "print(list(zip(['a', 'b', 'c'], [1, 2, 3])))\t\t\n",
    "\n",
    "# Make a dict from zip result\n",
    "D = dict(zip(['a', 'b', 'c'], [1, 2, 3]))\t\n",
    "print(D)\n",
    "\n",
    "# Es lo mismo que:\n",
    "D = {k: v for (k, v) in zip(['a', 'b', 'c'], [1, 2, 3])}\n",
    "print(D)"
   ]
  },
  {
   "cell_type": "code",
   "execution_count": null,
   "metadata": {},
   "outputs": [],
   "source": [
    "# Initialize dict from keys\n",
    "D = dict.fromkeys(['a', 'b', 'c'], 0)\t\t\n",
    "print(D)\n",
    "\n",
    "# Same, but with a comprehension\n",
    "D = {k:0 for k in ['a', 'b', 'c']}\t\t\t\n",
    "print(D)"
   ]
  },
  {
   "cell_type": "code",
   "execution_count": null,
   "metadata": {},
   "outputs": [],
   "source": [
    "# Other iterables, default value\n",
    "D = dict.fromkeys('spam')\t\t\t\t\t\n",
    "print(D)\n",
    "\n",
    "D = {k: None for k in 'spam'}\n",
    "print(D)"
   ]
  }
 ],
 "metadata": {
  "kernelspec": {
   "display_name": "Python 3",
   "language": "python",
   "name": "python3"
  },
  "language_info": {
   "codemirror_mode": {
    "name": "ipython",
    "version": 3
   },
   "file_extension": ".py",
   "mimetype": "text/x-python",
   "name": "python",
   "nbconvert_exporter": "python",
   "pygments_lexer": "ipython3",
   "version": "3.12.6"
  }
 },
 "nbformat": 4,
 "nbformat_minor": 2
}
