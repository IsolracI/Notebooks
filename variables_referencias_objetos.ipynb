{
 "cells": [
  {
   "cell_type": "code",
   "execution_count": null,
   "metadata": {},
   "outputs": [],
   "source": [
    "a = 3\n",
    "b = 3\n",
    "print(\"b es\", b)\n",
    "\n",
    "a = 3\n",
    "b = a\n",
    "a = \"spam\"\n",
    "print(\"b es\", b)"
   ]
  },
  {
   "cell_type": "code",
   "execution_count": null,
   "metadata": {},
   "outputs": [],
   "source": [
    "# Los objetos integer no son mutables\n",
    "a = 3\n",
    "b = a\n",
    "print(\"a es\", a)\n",
    "a = a + 2 \n",
    "print(\"b es\", b)\n",
    "print(\"a ahora es\", a)"
   ]
  },
  {
   "cell_type": "markdown",
   "metadata": {},
   "source": [
    "# Objetos mutables"
   ]
  },
  {
   "cell_type": "markdown",
   "metadata": {},
   "source": [
    "Listas"
   ]
  },
  {
   "cell_type": "code",
   "execution_count": null,
   "metadata": {},
   "outputs": [],
   "source": [
    "L = [2,3,4]\n",
    "M = L\n",
    "L[0] = 24\n",
    "print(\"L =\",L)\n",
    "print(\"M =\",M)"
   ]
  },
  {
   "cell_type": "code",
   "execution_count": null,
   "metadata": {},
   "outputs": [],
   "source": [
    "L = [2,3,4]\n",
    "M = L[:]        #Hiciste una copia de L y M está referenciando a esa copia, por lo que cualquier cambio hecho en la original no se traslada a M\n",
    "L[0] = 24\n",
    "print(\"L =\", L)\n",
    "print(\"M =\", M)"
   ]
  },
  {
   "cell_type": "markdown",
   "metadata": {},
   "source": [
    "Shared References and Equality"
   ]
  },
  {
   "cell_type": "code",
   "execution_count": null,
   "metadata": {},
   "outputs": [],
   "source": [
    "L = [1,2,3]\n",
    "M = L\n",
    "\n",
    "L == M      #sus valores son iguales, por lo que va a indicar true\n",
    "L is M      #están referenciando al mismo objeto, por lo que va a indicar true"
   ]
  },
  {
   "cell_type": "code",
   "execution_count": null,
   "metadata": {},
   "outputs": [],
   "source": [
    "L = [1,2,3]\n",
    "M = [1,2,3]     \n",
    "\n",
    "print(\"L == M\", L == M)\n",
    "print(\"L is M\", L is M)     #esta vez L y M están referenciando objetos distintos, por lo que va a indicar false"
   ]
  },
  {
   "cell_type": "markdown",
   "metadata": {},
   "source": [
    "Cache"
   ]
  },
  {
   "cell_type": "code",
   "execution_count": null,
   "metadata": {},
   "outputs": [],
   "source": [
    "# los enteros pequeños y los strings al ser almacenados en la memoria caché y reusados, \"is\" nos indica que hacen referencia al mismo objeto\n",
    "\n",
    "X = 42\n",
    "Y = 42\n",
    "\n",
    "print(X == Y)\n",
    "print(X is Y)"
   ]
  }
 ],
 "metadata": {
  "kernelspec": {
   "display_name": "Python 3",
   "language": "python",
   "name": "python3"
  },
  "language_info": {
   "codemirror_mode": {
    "name": "ipython",
    "version": 3
   },
   "file_extension": ".py",
   "mimetype": "text/x-python",
   "name": "python",
   "nbconvert_exporter": "python",
   "pygments_lexer": "ipython3",
   "version": "3.12.6"
  }
 },
 "nbformat": 4,
 "nbformat_minor": 2
}
