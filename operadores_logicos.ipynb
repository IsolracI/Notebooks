{
 "cells": [
  {
   "cell_type": "markdown",
   "metadata": {},
   "source": [
    "# 1. Operadores Lógicos"
   ]
  },
  {
   "cell_type": "markdown",
   "metadata": {},
   "source": [
    "## and\n",
    "### para el operador \"and\" es necesario que los dos argumentos evaluen true"
   ]
  },
  {
   "cell_type": "code",
   "execution_count": null,
   "metadata": {},
   "outputs": [],
   "source": [
    "counter = 1\n",
    "value = 100\n",
    "counter > 0 and value == 100"
   ]
  },
  {
   "cell_type": "code",
   "execution_count": null,
   "metadata": {},
   "outputs": [],
   "source": [
    "def and_(p, q):\n",
    "    if not p:\n",
    "        return p\n",
    "    else:\n",
    "        return q\n",
    "\n",
    "print(and_(True, False))\n",
    "print(and_(False, True))"
   ]
  },
  {
   "cell_type": "code",
   "execution_count": null,
   "metadata": {},
   "outputs": [],
   "source": [
    "x = True\n",
    "y = True\n",
    "z = x and y\n",
    "z"
   ]
  },
  {
   "cell_type": "code",
   "execution_count": null,
   "metadata": {},
   "outputs": [],
   "source": [
    "x = True\n",
    "y = False\n",
    "z = x and y\n",
    "z"
   ]
  },
  {
   "cell_type": "code",
   "execution_count": null,
   "metadata": {},
   "outputs": [],
   "source": [
    "x = False\n",
    "y = True\n",
    "z = x and y\n",
    "z"
   ]
  },
  {
   "cell_type": "code",
   "execution_count": null,
   "metadata": {},
   "outputs": [],
   "source": [
    "x = False\n",
    "y = False\n",
    "z = x and y\n",
    "z"
   ]
  },
  {
   "cell_type": "markdown",
   "metadata": {},
   "source": [
    "## or\n",
    "### para el operador \"or\" es suficiente con que uno de los argumentos evalue true"
   ]
  },
  {
   "cell_type": "code",
   "execution_count": null,
   "metadata": {},
   "outputs": [],
   "source": [
    "def or_(p, q):\n",
    "    if p:\n",
    "        return p\n",
    "    else:\n",
    "        return q\n",
    "\n",
    "print(or_(True, False))\n",
    "print(or_(False, True))"
   ]
  },
  {
   "cell_type": "code",
   "execution_count": null,
   "metadata": {},
   "outputs": [],
   "source": [
    "x = True\n",
    "y = True\n",
    "z = x or y\n",
    "z"
   ]
  },
  {
   "cell_type": "code",
   "execution_count": null,
   "metadata": {},
   "outputs": [],
   "source": [
    "x = True\n",
    "y = False\n",
    "z = x or y\n",
    "z"
   ]
  },
  {
   "cell_type": "code",
   "execution_count": null,
   "metadata": {},
   "outputs": [],
   "source": [
    "x = False\n",
    "y = True\n",
    "z = x or y\n",
    "z"
   ]
  },
  {
   "cell_type": "code",
   "execution_count": null,
   "metadata": {},
   "outputs": [],
   "source": [
    "x = False\n",
    "y = False\n",
    "z = x or y\n",
    "z"
   ]
  },
  {
   "cell_type": "code",
   "execution_count": null,
   "metadata": {},
   "outputs": [],
   "source": [
    "x = 1\n",
    "y = 1\n",
    "z = x or y\n",
    "z"
   ]
  },
  {
   "cell_type": "code",
   "execution_count": null,
   "metadata": {},
   "outputs": [],
   "source": [
    "x = 1\n",
    "y = 0\n",
    "z = x or y"
   ]
  },
  {
   "cell_type": "code",
   "execution_count": null,
   "metadata": {},
   "outputs": [],
   "source": [
    "x = 0\n",
    "y = 1\n",
    "z = x or y\n",
    "z"
   ]
  },
  {
   "cell_type": "code",
   "execution_count": null,
   "metadata": {},
   "outputs": [],
   "source": [
    "x = 0\n",
    "y = 0\n",
    "z = x or y\n",
    "z"
   ]
  },
  {
   "cell_type": "markdown",
   "metadata": {},
   "source": [
    "## not\n",
    "### convierte \"True\" en \"False\" y \"False\" en \"True\""
   ]
  },
  {
   "cell_type": "code",
   "execution_count": null,
   "metadata": {},
   "outputs": [],
   "source": [
    "x = True\n",
    "y = not x\n",
    "y"
   ]
  },
  {
   "cell_type": "code",
   "execution_count": null,
   "metadata": {},
   "outputs": [],
   "source": [
    "x = False\n",
    "y = not x\n",
    "y"
   ]
  },
  {
   "cell_type": "code",
   "execution_count": null,
   "metadata": {},
   "outputs": [],
   "source": [
    "print(not [])\n",
    "print(not \"\")\n",
    "print(not 0)\n",
    "print(not {})"
   ]
  },
  {
   "cell_type": "code",
   "execution_count": null,
   "metadata": {},
   "outputs": [],
   "source": [
    "print(not [5])\n",
    "print(not \"OK\")\n",
    "print(not 1)\n",
    "print(not {\"OK\": \"COMPUTER\"})"
   ]
  },
  {
   "cell_type": "markdown",
   "metadata": {},
   "source": [
    "# 2. Expresiones lógicas"
   ]
  },
  {
   "cell_type": "code",
   "execution_count": null,
   "metadata": {},
   "outputs": [],
   "source": [
    "var = 1\n",
    "print(var > 0)\n",
    "print(not (var <= 0))\n",
    "print(var != 0)\n",
    "print(not (var == 0))"
   ]
  },
  {
   "cell_type": "code",
   "execution_count": null,
   "metadata": {},
   "outputs": [],
   "source": [
    "not (p and q) == (not p) or (not q)\n",
    "not (p or q) == (not p) and (not q)"
   ]
  },
  {
   "cell_type": "code",
   "execution_count": null,
   "metadata": {},
   "outputs": [],
   "source": [
    "x = 3.141\n",
    "if 3.14 < x < 3.142:\n",
    "    print(\"x is near pi\")"
   ]
  },
  {
   "cell_type": "markdown",
   "metadata": {},
   "source": [
    "# 3. Precedencia de operadores"
   ]
  },
  {
   "cell_type": "code",
   "execution_count": null,
   "metadata": {},
   "outputs": [],
   "source": [
    "yield x                     # Generator function send protocol\n",
    "lambda args: expression     # Generación de función anónima\n",
    "x if y else z               # Selección ternaria (\"x\" se evalúa solo si \"y\" es verdadero)\n",
    "x or y                      # Operador lógico OR (\"y\" es evaluado solo si \"x\" es falso)\n",
    "x and y                     # Operador lógico AND (\"y\" es evaluado solo si \"x\" es falso)\n",
    "not x                       # Negación lógica\n",
    "x in y, x not in y          # Membresía (iterables, sets)\n",
    "x is y, x is not y          # Pruebas de identidad de objetos\n",
    "x < y, x <= y, x > y, x >=y # Comparación de magnitudes, set, subset and superset\n",
    "x == y, x != y              # Operadores de valor de igualdad\n",
    "x | y                       # Bitwise (operación de bit a bit) OR, set union\n",
    "x ^ y                       # Bitwise XOR, set symmetric difference\n",
    "x & y                       # Bitwise AND, set intersection\n",
    "~x                          # Bitwise NOT (inversión)\n",
    "x <<y, x>> y                # Cambia a \"x\" a la izquierda o derecha por \"y\" cantidad de bits\n",
    "x + y                       # Suma, cocatenación\n",
    "x - y                       # Resta, diferencia de conjunto\n",
    "x * y                       # Multiplicación, repetición\n",
    "x % y                       # Resto, formateo\n",
    "x / y, x // y               # División: true and floor\n",
    "-x, +x                      # Negación, identidad\n",
    "x ** y                      # Potencia\n",
    "x[i]                        # Indexar (secuencia, mapeado, otros)\n",
    "x[i:j:k]                    # Slicing\n",
    "x(...)                      # Llamada (función, método, clase, otro)\n",
    "x.attr                      # Referencia de atributo\n",
    "(...)                       # Tupla, expresión, expresión de generación\n",
    "[...]                       # Lista, comprehensión de lista\n",
    "{...}                       # Diccionario, conjunto, comprehensión de conjuntos y diccionarios"
   ]
  },
  {
   "cell_type": "code",
   "execution_count": null,
   "metadata": {},
   "outputs": [],
   "source": [
    "resultado = 1 * 4 < 5 + 1 and True != 0\n",
    "resultado"
   ]
  },
  {
   "cell_type": "markdown",
   "metadata": {},
   "source": [
    "# 4. Valores lógicos vs bits individuales"
   ]
  },
  {
   "cell_type": "code",
   "execution_count": null,
   "metadata": {},
   "outputs": [],
   "source": [
    "p = 1\n",
    "q = not not p\n",
    "q"
   ]
  },
  {
   "cell_type": "code",
   "execution_count": null,
   "metadata": {},
   "outputs": [],
   "source": [
    "p = 0\n",
    "q = not not p\n",
    "q"
   ]
  }
 ],
 "metadata": {
  "kernelspec": {
   "display_name": "Python 3",
   "language": "python",
   "name": "python3"
  },
  "language_info": {
   "codemirror_mode": {
    "name": "ipython",
    "version": 3
   },
   "file_extension": ".py",
   "mimetype": "text/x-python",
   "name": "python",
   "nbconvert_exporter": "python",
   "pygments_lexer": "ipython3",
   "version": "3.12.6"
  }
 },
 "nbformat": 4,
 "nbformat_minor": 2
}
