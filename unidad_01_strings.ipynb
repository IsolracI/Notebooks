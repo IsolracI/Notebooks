{
 "cells": [
  {
   "cell_type": "code",
   "execution_count": null,
   "metadata": {},
   "outputs": [],
   "source": [
    "# la variable \"S\" ahora está haciendo referencia a \"Spam\".\n",
    "S = \"Spam\"\n",
    "N = 122\n",
    "print(S)\n",
    "print(\"ejemplo 1\" + S)\n",
    "print(\"ejemplo 2 \" + S, S)\n",
    "print(\"ejemplo 3 \" + S*2)\n",
    "print(\"ejemplo 4 \" + S + \"aaa\")\n",
    "print(\"ejemplo 5 \" + S + \" aaa\")\n",
    "print(\"ejemplo 6 \" + S + \"Spam\")\n",
    "print(\"ejemplo 7 \" + S + \" 2\")\n",
    "print(N)\n",
    "print(N+22)\n",
    "print(N-22)\n",
    "print(N*2)\n",
    "print(N/2)"
   ]
  },
  {
   "cell_type": "code",
   "execution_count": null,
   "metadata": {},
   "outputs": [],
   "source": [
    "# No puedes concatenar un string (o str) con un número entero (o int).\n",
    "print(\"ejemplo 8\" + S + 2)"
   ]
  },
  {
   "cell_type": "code",
   "execution_count": null,
   "metadata": {},
   "outputs": [],
   "source": [
    "print(\"ejemplo 9 \" + N)"
   ]
  },
  {
   "cell_type": "code",
   "execution_count": null,
   "metadata": {},
   "outputs": [],
   "source": [
    "# Cantidad de caracteres que tiene el string al que S hace referencia.\n",
    "len(S)"
   ]
  },
  {
   "cell_type": "code",
   "execution_count": null,
   "metadata": {},
   "outputs": [],
   "source": [
    "print(len(S)+2)\n",
    "print(len(S)-2)\n",
    "print(len(S)*2)\n",
    "print(len(S)/2)\n",
    "print(len(S + \"aaaa\"))\n",
    "print(len(S + \"2\"))"
   ]
  },
  {
   "cell_type": "code",
   "execution_count": null,
   "metadata": {},
   "outputs": [],
   "source": [
    "# En python los índices para una lista o string comienzan desde la posición 0.\n",
    "print(S[0])\n",
    "print(S[1])\n",
    "print(S[2])\n",
    "print(S[3])\n",
    "print(S[-1])\n",
    "print(S[-2])\n",
    "print(S[-3])\n",
    "print(S[-4])\n",
    "print(S[1+2])"
   ]
  },
  {
   "cell_type": "code",
   "execution_count": null,
   "metadata": {},
   "outputs": [],
   "source": [
    "# S tiene 4 carácteres, por lo que si indicas un índice que esté fuera de rango, da error.\n",
    "print(S[5])"
   ]
  },
  {
   "cell_type": "code",
   "execution_count": null,
   "metadata": {},
   "outputs": [],
   "source": [
    "print(S[4])"
   ]
  },
  {
   "cell_type": "code",
   "execution_count": null,
   "metadata": {},
   "outputs": [],
   "source": [
    "print(S[::-1])\n",
    "print(S[len(S) - 1])"
   ]
  },
  {
   "cell_type": "code",
   "execution_count": null,
   "metadata": {},
   "outputs": [],
   "source": [
    "print(\"ejemplo 1: \" + S[0:2])\n",
    "print(\"ejemplo 2: \" + S[1:3])\n",
    "print(\"ejemplo 3: \" + S[0:3])\n",
    "print(\"ejemplo 4: \" + S[0:7])\n",
    "print(\"ejemplo 5: \" + S[0:10000])\n",
    "print(\"ejemplo 6: \" + S[2:])\n",
    "print(\"ejemplo 7: \" + S[3:])\n",
    "print(\"ejemplo 8: \" + S[:3])\n",
    "print(\"ejemplo 9: \" + S[:2])\n",
    "print(\"ejemplo 10: \" + S[:1])\n",
    "print(\"ejemplo 11: \" + S[:-1])\n",
    "print(\"ejemplo 11, con este comando lo que haces es una copia de S: \" + S[:])"
   ]
  },
  {
   "cell_type": "code",
   "execution_count": null,
   "metadata": {},
   "outputs": [],
   "source": [
    "S + \"eggs\""
   ]
  },
  {
   "cell_type": "code",
   "execution_count": null,
   "metadata": {},
   "outputs": [],
   "source": [
    "# Un string es inmutable, no puedes cambiarlo.\n",
    "S[0] = \"Z\""
   ]
  },
  {
   "cell_type": "code",
   "execution_count": null,
   "metadata": {},
   "outputs": [],
   "source": [
    "# Lo que sí puedes hacer, es indicar que la variable indique otra cosa.\n",
    "S = \"z\" + S[1:]\n",
    "S"
   ]
  },
  {
   "cell_type": "code",
   "execution_count": null,
   "metadata": {},
   "outputs": [],
   "source": [
    "E = \"egss\"\n",
    "L = list(E)\n",
    "print(L)\n",
    "L[0] = \"z\"\n",
    "L"
   ]
  },
  {
   "cell_type": "code",
   "execution_count": null,
   "metadata": {},
   "outputs": [],
   "source": [
    "\"\".join(L)"
   ]
  },
  {
   "cell_type": "code",
   "execution_count": null,
   "metadata": {},
   "outputs": [],
   "source": [
    "S = \"SpamEggsSpam\"\n",
    "S.find(\"pa\")"
   ]
  },
  {
   "cell_type": "code",
   "execution_count": null,
   "metadata": {},
   "outputs": [],
   "source": [
    "S.find(\"pa\", 3)"
   ]
  },
  {
   "cell_type": "code",
   "execution_count": null,
   "metadata": {},
   "outputs": [],
   "source": [
    "S.find(S)"
   ]
  },
  {
   "cell_type": "code",
   "execution_count": null,
   "metadata": {},
   "outputs": [],
   "source": [
    "# Si no existe lo que buscas te devolverá -1.\n",
    "S.find(\"z\")"
   ]
  },
  {
   "cell_type": "code",
   "execution_count": null,
   "metadata": {},
   "outputs": [],
   "source": [
    "# S es inmutalbe, por lo que no vas a cambiar el valor de la variable afuera del comando.\n",
    "print(S.replace(\"Eggs\", \"Bacon\"))\n",
    "print(S)"
   ]
  },
  {
   "cell_type": "code",
   "execution_count": null,
   "metadata": {},
   "outputs": [],
   "source": [
    "print(S.upper())\n",
    "print(S)"
   ]
  },
  {
   "cell_type": "code",
   "execution_count": null,
   "metadata": {},
   "outputs": [],
   "source": [
    "print(\"S is alpha\", S.isalpha())\n",
    "print(\"S is digit\", S.isdigit())"
   ]
  },
  {
   "cell_type": "code",
   "execution_count": null,
   "metadata": {},
   "outputs": [],
   "source": [
    "S = \"spams-spam-eggs-spam-bacon\"\n",
    "print(S.split(\"-\"))\n",
    "print(S)"
   ]
  },
  {
   "cell_type": "code",
   "execution_count": null,
   "metadata": {},
   "outputs": [],
   "source": [
    "line = \"aaa\\t,bbb\\t,\\nccccc,\\tdd\\n\"\n",
    "print(line)"
   ]
  },
  {
   "cell_type": "code",
   "execution_count": null,
   "metadata": {},
   "outputs": [],
   "source": [
    "line.rstrip()"
   ]
  },
  {
   "cell_type": "code",
   "execution_count": null,
   "metadata": {},
   "outputs": [],
   "source": [
    "line.lstrip()"
   ]
  },
  {
   "cell_type": "code",
   "execution_count": null,
   "metadata": {},
   "outputs": [],
   "source": [
    "line.rstrip().split(\",\")"
   ]
  },
  {
   "cell_type": "code",
   "execution_count": null,
   "metadata": {},
   "outputs": [],
   "source": [
    "\"%s, eggs, and %s\" % (\"spam\", \"SPAM!\")"
   ]
  },
  {
   "cell_type": "code",
   "execution_count": null,
   "metadata": {},
   "outputs": [],
   "source": [
    "\"%s, eggs, and %s %s\" % (\"spam\", \"SPAM!\")"
   ]
  },
  {
   "cell_type": "code",
   "execution_count": null,
   "metadata": {},
   "outputs": [],
   "source": [
    "\"%s, eggs, and %s\" % (\"spam\", \"RANA GUSTAVO\", \"SPAM!\")"
   ]
  },
  {
   "cell_type": "code",
   "execution_count": null,
   "metadata": {},
   "outputs": [],
   "source": [
    "\"{}, eggs, and {}\".format(\"spam\", \"SPAM!\")"
   ]
  },
  {
   "cell_type": "code",
   "execution_count": null,
   "metadata": {},
   "outputs": [],
   "source": [
    "S = \"SpamEggsSpam\"\n",
    "f'{S}'"
   ]
  },
  {
   "cell_type": "code",
   "execution_count": null,
   "metadata": {},
   "outputs": [],
   "source": [
    "\"{0}\".format(S)"
   ]
  },
  {
   "cell_type": "code",
   "execution_count": null,
   "metadata": {},
   "outputs": [],
   "source": [
    "\"42\" + 1"
   ]
  },
  {
   "cell_type": "code",
   "execution_count": null,
   "metadata": {},
   "outputs": [],
   "source": [
    "int(\"42\") + 1"
   ]
  },
  {
   "cell_type": "code",
   "execution_count": null,
   "metadata": {},
   "outputs": [],
   "source": [
    "int(\"aa\") + 1"
   ]
  },
  {
   "cell_type": "code",
   "execution_count": null,
   "metadata": {},
   "outputs": [],
   "source": [
    "\"42\" + str(1)"
   ]
  },
  {
   "cell_type": "code",
   "execution_count": null,
   "metadata": {},
   "outputs": [],
   "source": [
    "# repr convierte un objeto a su representación en string.\n",
    "print(repr(42))\n",
    "print(repr(\"asd\"))\n",
    "print(repr(\"42\"))"
   ]
  },
  {
   "cell_type": "code",
   "execution_count": null,
   "metadata": {},
   "outputs": [],
   "source": [
    "# ord convierte un solo carácter a su valor representativo en decimal.\n",
    "print(ord(\"s\"))\n",
    "print(ord(\"á\"))"
   ]
  },
  {
   "cell_type": "code",
   "execution_count": null,
   "metadata": {},
   "outputs": [],
   "source": [
    "# solo puede ser con un único carácter a la vez.\n",
    "print(ord(\"as\"))"
   ]
  },
  {
   "cell_type": "code",
   "execution_count": null,
   "metadata": {},
   "outputs": [],
   "source": [
    "# la función chr hace lo contrario, convierte un código en decimal al valor al que representa.\n",
    "print(chr(115))\n",
    "print(chr(255))\n",
    "print(chr(42))"
   ]
  }
 ],
 "metadata": {
  "kernelspec": {
   "display_name": "Python 3",
   "language": "python",
   "name": "python3"
  },
  "language_info": {
   "codemirror_mode": {
    "name": "ipython",
    "version": 3
   },
   "file_extension": ".py",
   "mimetype": "text/x-python",
   "name": "python",
   "nbconvert_exporter": "python",
   "pygments_lexer": "ipython3",
   "version": "3.12.6"
  }
 },
 "nbformat": 4,
 "nbformat_minor": 2
}
